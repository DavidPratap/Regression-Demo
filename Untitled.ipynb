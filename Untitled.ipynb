{
 "cells": [
  {
   "cell_type": "markdown",
   "id": "e2d91de1",
   "metadata": {},
   "source": [
    "# Demo of Independent Samples t-test"
   ]
  },
  {
   "cell_type": "markdown",
   "id": "bcb7c2f9",
   "metadata": {},
   "source": [
    "### Variances are unequal "
   ]
  },
  {
   "cell_type": "markdown",
   "id": "30730c3d",
   "metadata": {},
   "source": [
    "The average size of a farm in Indiana County, Pennsylvania, is 191 acres. The average size\n",
    "of a farm in Greene County, Pennsylvania, is 199 acres. Assume the data were obtained\n",
    "from two samples with standard deviations of 38 and 12 acres, respectively, and sample\n",
    "sizes of 8 and 10, respectively. Can it be concluded at a \u0002 0.05 that the average size of the\n",
    "farms in the two counties is different? Assume the populations are normally distributed."
   ]
  },
  {
   "cell_type": "code",
   "execution_count": 3,
   "id": "1ea83e9f",
   "metadata": {},
   "outputs": [],
   "source": [
    "import pandas as pd\n",
    "import numpy as np\n",
    "import matplotlib.pyplot as plt"
   ]
  },
  {
   "cell_type": "markdown",
   "id": "679142f2",
   "metadata": {},
   "source": [
    "### Step1: Set the Hypothesis"
   ]
  },
  {
   "cell_type": "code",
   "execution_count": 4,
   "id": "ffa803af",
   "metadata": {},
   "outputs": [],
   "source": [
    "# Null hypothesis : Average area of farm1 = average area of farm2\n",
    "# Alternate hypothesis: Average area of farm1 != average area of farm2\n",
    "\n",
    "# H0: mu1-mu2=0\n",
    "# H1: mu1-mu2!=0"
   ]
  },
  {
   "cell_type": "markdown",
   "id": "5be921d3",
   "metadata": {},
   "source": [
    "### Step 2 : Identify the test- check for assumptions"
   ]
  },
  {
   "cell_type": "code",
   "execution_count": 5,
   "id": "be167168",
   "metadata": {},
   "outputs": [],
   "source": [
    "# We have 2 independent samples\n",
    "# population standard deviations are not known\n",
    "# populations are normally distributed\n",
    "# sample size are less than 30\n",
    "# the saamples are assumed to have unequal variances\n",
    "# We have to use an independent samples t -test for unequal variancres"
   ]
  },
  {
   "cell_type": "markdown",
   "id": "b987d713",
   "metadata": {},
   "source": [
    "### Step3:Get the test value"
   ]
  },
  {
   "cell_type": "code",
   "execution_count": 7,
   "id": "9ba08ff0",
   "metadata": {},
   "outputs": [
    {
     "name": "stdout",
     "output_type": "stream",
     "text": [
      "-0.47903332803194804\n"
     ]
    }
   ],
   "source": [
    "x1_bar=191\n",
    "x2_bar=199\n",
    "n1=8\n",
    "n2=10\n",
    "s1=38\n",
    "s2=12\n",
    "alpha=0.05\n",
    "observed_val=x1_bar-x2_bar\n",
    "expected_val=0\n",
    "std_error=np.sqrt((s1**2/n1)+(s2*82/n2))\n",
    "t=(observed_val-expected_val)/std_error\n",
    "print(t)"
   ]
  },
  {
   "cell_type": "markdown",
   "id": "53a46257",
   "metadata": {},
   "source": [
    "### Step4: Get the p-value"
   ]
  },
  {
   "cell_type": "code",
   "execution_count": 8,
   "id": "99ca5e4a",
   "metadata": {},
   "outputs": [
    {
     "name": "stdout",
     "output_type": "stream",
     "text": [
      "0.6465173042340359\n"
     ]
    }
   ],
   "source": [
    "import scipy \n",
    "from scipy import stats\n",
    "p_val=2*stats.t.cdf(t, df=n1-1)\n",
    "print(p_val)"
   ]
  },
  {
   "cell_type": "code",
   "execution_count": 11,
   "id": "61f5ffd9",
   "metadata": {},
   "outputs": [],
   "source": [
    "sig_lvl=0.05\n",
    "def inference(p_val, sig_lvl):\n",
    "    if p_val<sig_lvl:\n",
    "        print(\"Reject Null Hypothesis, Result is significant\")\n",
    "    else:\n",
    "        print(\"Retain Null Hypothesis,Result is Not significant\")"
   ]
  },
  {
   "cell_type": "code",
   "execution_count": 12,
   "id": "b524697a",
   "metadata": {},
   "outputs": [
    {
     "name": "stdout",
     "output_type": "stream",
     "text": [
      "Retain Null Hypothesis,Result is Not significant\n"
     ]
    }
   ],
   "source": [
    "inference(p_val, sig_lvl)"
   ]
  },
  {
   "cell_type": "code",
   "execution_count": null,
   "id": "dcc6d960",
   "metadata": {},
   "outputs": [],
   "source": []
  }
 ],
 "metadata": {
  "kernelspec": {
   "display_name": "Python 3 (ipykernel)",
   "language": "python",
   "name": "python3"
  },
  "language_info": {
   "codemirror_mode": {
    "name": "ipython",
    "version": 3
   },
   "file_extension": ".py",
   "mimetype": "text/x-python",
   "name": "python",
   "nbconvert_exporter": "python",
   "pygments_lexer": "ipython3",
   "version": "3.9.7"
  }
 },
 "nbformat": 4,
 "nbformat_minor": 5
}
